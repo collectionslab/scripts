{
 "cells": [
  {
   "cell_type": "markdown",
   "metadata": {},
   "source": [
    "## How to Run loc_get_data.py"
   ]
  },
  {
   "cell_type": "markdown",
   "metadata": {},
   "source": [
    "Note: Ensure python is installed on your machine. This script should work with python2 and python3"
   ]
  },
  {
   "cell_type": "markdown",
   "metadata": {},
   "source": [
    "1\\. For python2"
   ]
  },
  {
   "cell_type": "code",
   "execution_count": null,
   "metadata": {},
   "outputs": [],
   "source": [
    "pip install requests"
   ]
  },
  {
   "cell_type": "code",
   "execution_count": null,
   "metadata": {},
   "outputs": [],
   "source": [
    "pip install unicodecsv"
   ]
  },
  {
   "cell_type": "markdown",
   "metadata": {},
   "source": [
    "2\\. For python3"
   ]
  },
  {
   "cell_type": "code",
   "execution_count": null,
   "metadata": {},
   "outputs": [],
   "source": [
    "pip3 install requests"
   ]
  },
  {
   "cell_type": "code",
   "execution_count": null,
   "metadata": {},
   "outputs": [],
   "source": [
    "pip3 install unicodecsv"
   ]
  },
  {
   "cell_type": "markdown",
   "metadata": {},
   "source": [
    "3\\. run script"
   ]
  },
  {
   "cell_type": "code",
   "execution_count": null,
   "metadata": {},
   "outputs": [],
   "source": [
    "python loc_get_data.py"
   ]
  },
  {
   "cell_type": "markdown",
   "metadata": {},
   "source": [
    "4\\. Enter a Q or C when the prompt appears. `Query or Collection download? (Q/C): `\n",
    "Note: The difference between search and collections URLs are as follows. If the URL contains /?[some text] it is a **query**. If it does not contain a \"/?\" it is a **collection**\n",
    "```\n",
    "Examples:\n",
    "\n",
    "Collection: https://www.loc.gov/photos/\n",
    "Query: https://www.loc.gov/photos/?fa=original-format%3Aweb+page\n",
    "```"
   ]
  },
  {
   "cell_type": "markdown",
   "metadata": {},
   "source": [
    "If Q is entered `Enter Query String or URL: ` for search."
   ]
  },
  {
   "cell_type": "markdown",
   "metadata": {},
   "source": [
    "* If you want to search a string enter a string.\n",
    "* If you want to download the results from a search already done, enter the URL\n",
    "\n",
    "``` \n",
    "Examples:\n",
    "String: Civil War Manuscripts\n",
    "URL: https://www.loc.gov/search/?q=greek+manuscripts&fa=location%3Awashington+d.c.&dates=2000%2F2099&st=gallery\n",
    "```"
   ]
  },
  {
   "cell_type": "markdown",
   "metadata": {},
   "source": [
    "5\\. If C is entered `Enter LOC url for item: ` should appear."
   ]
  },
  {
   "cell_type": "markdown",
   "metadata": {},
   "source": [
    "6\\. Enter the URL \n",
    "```\n",
    "Example:\n",
    "https://www.loc.gov/collections/manuscripts-in-st-catherines-monastery-mount-sinai)\n",
    "```"
   ]
  },
  {
   "cell_type": "markdown",
   "metadata": {},
   "source": [
    "7\\. Hit `Enter`"
   ]
  },
  {
   "cell_type": "markdown",
   "metadata": {},
   "source": [
    "The number of records should be printed out upon finishing. If the number of records is not equal to the number of rows (minus the header row) in the csv, there is a problem.\n",
    "`8850 records collected`"
   ]
  }
 ],
 "metadata": {
  "kernelspec": {
   "display_name": "Python 3",
   "language": "python",
   "name": "python3"
  },
  "language_info": {
   "codemirror_mode": {
    "name": "ipython",
    "version": 3
   },
   "file_extension": ".py",
   "mimetype": "text/x-python",
   "name": "python",
   "nbconvert_exporter": "python",
   "pygments_lexer": "ipython3",
   "version": "3.6.1"
  }
 },
 "nbformat": 4,
 "nbformat_minor": 2
}
